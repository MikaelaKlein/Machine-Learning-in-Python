{
 "cells": [
  {
   "cell_type": "code",
   "execution_count": 37,
   "metadata": {},
   "outputs": [],
   "source": [
    "import sklearn.datasets\n",
    "from sklearn.neighbors import KNeighborsClassifier\n",
    "from sklearn.model_selection import train_test_split\n",
    "import pandas as pd\n",
    "import numpy as np\n",
    "import matplotlib.pyplot as plt"
   ]
  },
  {
   "cell_type": "markdown",
   "metadata": {},
   "source": [
    "# K-Nearest Neighbors\n",
    "\n",
    "KNN is one of the simplest and most used classification algorithms. It is a **non-parametric** and lazy learning algorithm. Non-parametric meaning that it doesn't make any assumptions about the underlying data distribution. The algorithm is also \"lazy\" meaning that it needs most if not all of the training data during the testing phase, making the algorithm computationally expensive. It also requires high memory especially if k grows, which causes the prediction stage to become increasingly more slow. The KNN algorithm is based on feature similarity: how closely the unseen features resemble the training set determines how the given data point will be classified."
   ]
  },
  {
   "cell_type": "markdown",
   "metadata": {},
   "source": [
    "## Example #1 - Iris Dataset"
   ]
  },
  {
   "cell_type": "code",
   "execution_count": 107,
   "metadata": {},
   "outputs": [
    {
     "data": {
      "text/plain": [
       "array(['setosa', 'versicolor', 'virginica'], dtype='<U10')"
      ]
     },
     "execution_count": 107,
     "metadata": {},
     "output_type": "execute_result"
    },
    {
     "data": {
      "image/png": "[encoded data removed]",
      "text/plain": [
       "<Figure size 1008x576 with 1 Axes>"
      ]
     },
     "metadata": {},
     "output_type": "display_data"
    }
   ],
   "source": [
    "iris = sklearn.datasets.load_iris()\n",
    "\n",
    "X = iris.data\n",
    "y = iris.target\n",
    "\n",
    "X_train, X_test, y_train, y_test = train_test_split(X, y)\n",
    "\n",
    "df_data = pd.DataFrame(X_train, columns = iris.feature_names).iloc[:,0:2]\n",
    "df_target = pd.DataFrame(y_train, columns = ['Species'])\n",
    "\n",
    "conditions = [\n",
    "    df_target['Species'] == 0\n",
    "    , df_target['Species'] == 1\n",
    "    , df_target['Species'] == 2\n",
    "]\n",
    "\n",
    "choices = list(iris.target_names)\n",
    "df_target['Species Names'] = np.select(conditions, choices)\n",
    "df = pd.concat([df_data, df_target], axis = 1)\n",
    "\n",
    "fig, ax = plt.subplots(figsize=(14, 8))\n",
    "\n",
    "# Plot training data\n",
    "plt.scatter(df[df['Species'] == 0].iloc[:,0], df[df['Species'] == 0].iloc[:,1], c = \"c\", label = \"setosa\", s = 60)\n",
    "plt.scatter(df[df['Species'] == 1].iloc[:,0], df[df['Species'] == 1].iloc[:,1], c = \"m\", label = \"versicolor\", s = 60)\n",
    "plt.scatter(df[df['Species'] == 2].iloc[:,0], df[df['Species'] == 2].iloc[:,1], c = \"b\", label = \"virginia\", s = 60)\n",
    "\n",
    "# Plot first X, y pair of test data as a red \"X\"\n",
    "plt.scatter(X_test[0][0], X_test[0][1], marker = 'x', s = 100)\n",
    "\n",
    "# Label axes\n",
    "plt.xlabel(df_data.columns[0])\n",
    "plt.ylabel(df_data.columns[1])\n",
    "plt.legend()\n",
    "iris.target_names"
   ]
  },
  {
   "cell_type": "markdown",
   "metadata": {},
   "source": [
    "### Fit the Model"
   ]
  },
  {
   "cell_type": "code",
   "execution_count": 76,
   "metadata": {},
   "outputs": [
    {
     "data": {
      "text/plain": [
       "0"
      ]
     },
     "execution_count": 76,
     "metadata": {},
     "output_type": "execute_result"
    }
   ],
   "source": [
    "knn = KNeighborsClassifier(n_neighbors = 5)\n",
    "knn.fit(X_train, y_train)\n",
    "y_pred = knn.predict(X_test)\n",
    "y_pred[0]"
   ]
  },
  {
   "cell_type": "markdown",
   "metadata": {},
   "source": [
    "### Model Evaluation"
   ]
  },
  {
   "cell_type": "code",
   "execution_count": 77,
   "metadata": {},
   "outputs": [
    {
     "data": {
      "text/plain": [
       "0.9736842105263158"
      ]
     },
     "execution_count": 77,
     "metadata": {},
     "output_type": "execute_result"
    }
   ],
   "source": [
    "knn.score(X_test, y_test)"
   ]
  },
  {
   "cell_type": "markdown",
   "metadata": {},
   "source": [
    "## Example #2 - Newsgroups Dataset\n",
    "\n",
    "From \"Linear Classifiers in Python\" DataCamp course. Part 1: Applying logisitic regression and SVM. Video: scikit-learn refresher."
   ]
  },
  {
   "cell_type": "markdown",
   "metadata": {},
   "source": [
    "### Fit the Model"
   ]
  },
  {
   "cell_type": "code",
   "execution_count": null,
   "metadata": {},
   "outputs": [],
   "source": [
    "newsgroups = sklearn.datasets.fetch_20newsgroups_vectorized()\n",
    "X, y = newsgroups.data, newsgroups.target\n",
    "knn = KNeighborsClassifier(n_neighbors = 1)\n",
    "knn.fit(X, y)\n",
    "y_pred = knn.predict(X)\n",
    "print(y_pred)"
   ]
  },
  {
   "cell_type": "markdown",
   "metadata": {},
   "source": [
    "### Model Evaluation\n",
    "\n",
    "Below is not a good way of evaluating your model because you are evaluating your models accuracy on already seen data. "
   ]
  },
  {
   "cell_type": "code",
   "execution_count": 8,
   "metadata": {},
   "outputs": [
    {
     "data": {
      "text/plain": [
       "0.9999116139296447"
      ]
     },
     "execution_count": 8,
     "metadata": {},
     "output_type": "execute_result"
    }
   ],
   "source": [
    "knn.score(X, y) "
   ]
  },
  {
   "cell_type": "markdown",
   "metadata": {},
   "source": [
    "To get a better sense of your model accuracy, you should evaluate the accuracy of your model by using unseen data, that is, data that your model didn't use to train itself. That's why we need to use train_test_split."
   ]
  },
  {
   "cell_type": "code",
   "execution_count": 10,
   "metadata": {},
   "outputs": [
    {
     "data": {
      "text/plain": [
       "0.6585365853658537"
      ]
     },
     "execution_count": 10,
     "metadata": {},
     "output_type": "execute_result"
    }
   ],
   "source": [
    "X_train, X_test, y_train, y_test = train_test_split(X, y)\n",
    "knn.fit(X_train, y_train)\n",
    "knn.score(X_test, y_test)"
   ]
  },
  {
   "cell_type": "code",
   "execution_count": null,
   "metadata": {},
   "outputs": [],
   "source": []
  }
 ],
 "metadata": {
  "kernelspec": {
   "display_name": "Python 3",
   "language": "python",
   "name": "python3"
  },
  "language_info": {
   "codemirror_mode": {
    "name": "ipython",
    "version": 3
   },
   "file_extension": ".py",
   "mimetype": "text/x-python",
   "name": "python",
   "nbconvert_exporter": "python",
   "pygments_lexer": "ipython3",
   "version": "3.6.5"
  }
 },
 "nbformat": 4,
 "nbformat_minor": 2
}
